{
 "cells": [
  {
   "cell_type": "code",
   "execution_count": 14,
   "id": "eb789c6b",
   "metadata": {},
   "outputs": [],
   "source": [
    "import win32com.client as win32"
   ]
  },
  {
   "cell_type": "code",
   "execution_count": 15,
   "id": "2c767a61",
   "metadata": {},
   "outputs": [],
   "source": [
    "olApp = win32.Dispatch('Outlook.Application')\n",
    "olNS = olApp.GetNameSpace('MAPI')"
   ]
  },
  {
   "cell_type": "code",
   "execution_count": 17,
   "id": "b23584f3",
   "metadata": {},
   "outputs": [
    {
     "ename": "com_error",
     "evalue": "(-2147352567, 'Exception occurred.', (4096, 'Microsoft Outlook', 'Cannot create the email message because a data file to send and receive messages cannot be found. Check your settings in this Microsoft Outlook profile. In Microsoft Windows, click the Start button, and then click Control Panel. Click User Accounts, and then click Mail.  Click Show Profiles, select this profile, and then click Properties. The server is not available. Contact your administrator if this condition persists.', None, 0, -2147221231), None)",
     "output_type": "error",
     "traceback": [
      "\u001b[1;31m---------------------------------------------------------------------------\u001b[0m",
      "\u001b[1;31mcom_error\u001b[0m                                 Traceback (most recent call last)",
      "Cell \u001b[1;32mIn[17], line 1\u001b[0m\n\u001b[1;32m----> 1\u001b[0m mail_item\u001b[38;5;241m=\u001b[39m\u001b[43molApp\u001b[49m\u001b[38;5;241;43m.\u001b[39;49m\u001b[43mCreateItem\u001b[49m\u001b[43m(\u001b[49m\u001b[38;5;241;43m0\u001b[39;49m\u001b[43m)\u001b[49m\n\u001b[0;32m      3\u001b[0m mail_item\u001b[38;5;241m.\u001b[39mSubject \u001b[38;5;241m=\u001b[39m \u001b[38;5;124m\"\u001b[39m\u001b[38;5;124mFor Testing\u001b[39m\u001b[38;5;124m\"\u001b[39m\n\u001b[0;32m      4\u001b[0m mail_item\u001b[38;5;241m.\u001b[39mBodyFormat \u001b[38;5;241m=\u001b[39m \u001b[38;5;241m1\u001b[39m\n",
      "File \u001b[1;32m<COMObject Outlook.Application>:2\u001b[0m, in \u001b[0;36mCreateItem\u001b[1;34m(self, ItemType)\u001b[0m\n",
      "\u001b[1;31mcom_error\u001b[0m: (-2147352567, 'Exception occurred.', (4096, 'Microsoft Outlook', 'Cannot create the email message because a data file to send and receive messages cannot be found. Check your settings in this Microsoft Outlook profile. In Microsoft Windows, click the Start button, and then click Control Panel. Click User Accounts, and then click Mail.  Click Show Profiles, select this profile, and then click Properties. The server is not available. Contact your administrator if this condition persists.', None, 0, -2147221231), None)"
     ]
    }
   ],
   "source": [
    "mail_item=olApp.CreateItem(0)\n",
    "\n",
    "mail_item.Subject = \"For Testing\"\n",
    "mail_item.BodyFormat = 1\n",
    "mail_item.Body = \"Hello Coder\"\n",
    "mail_item.Sender=\"jageshwar8@outlook.com\"\n",
    "mail_item.To=\"developerbigdata8@gmail.com\"\n",
    "\n",
    "mail_item.Display()\n",
    "mail_item.Save()\n",
    "mail_item.Send()"
   ]
  },
  {
   "cell_type": "code",
   "execution_count": 25,
   "id": "f60f8af6",
   "metadata": {},
   "outputs": [
    {
     "name": "stdout",
     "output_type": "stream",
     "text": [
      "receipt email noted\n",
      "subject noted\n",
      "Body noted\n",
      "Msg noted\n",
      "Email Sent\n",
      "Closing Connection\n"
     ]
    }
   ],
   "source": [
    "import smtplib\n",
    "\n",
    "# Create an SMTP object\n",
    "server = smtplib.SMTP('smtp.outlook.com', 587)\n",
    "\n",
    "# Connect to the server\n",
    "server.connect(\"smtp.outlook.com\", 587)\n",
    "\n",
    "# Start TLS encryption\n",
    "server.starttls()\n",
    "\n",
    "# Login to the account\n",
    "server.login(\"jageshwar8@outlook.com\", \"Jaggy@2330\")\n",
    "\n",
    "# Send the email\n",
    "to = \"jageshwar8@outlook.com\"\n",
    "print(\"receipt email noted\")\n",
    "subject = \"Test email from Python Code\"\n",
    "print(\"subject noted\")\n",
    "body = \"\"\"Hello Python Kya laga tha nhi hoga!. Jab tak krenge nhi tab tak chodenge nhi.\n",
    "Thanks,\n",
    "Jageshwar\"\"\"\n",
    "print(\"Body noted\")\n",
    "msg = f\"Subject: {subject}\\n\\n{body}\"\n",
    "print(\"Msg noted\")\n",
    "server.sendmail(\"jageshwar8@outlook.com\", to, msg)\n",
    "print(\"Email Sent\")\n",
    "# Disconnect from the server\n",
    "server.quit()\n",
    "print(\"Closing Connection\")\n"
   ]
  }
 ],
 "metadata": {
  "kernelspec": {
   "display_name": "Python 3 (ipykernel)",
   "language": "python",
   "name": "python3"
  },
  "language_info": {
   "codemirror_mode": {
    "name": "ipython",
    "version": 3
   },
   "file_extension": ".py",
   "mimetype": "text/x-python",
   "name": "python",
   "nbconvert_exporter": "python",
   "pygments_lexer": "ipython3",
   "version": "3.9.0"
  }
 },
 "nbformat": 4,
 "nbformat_minor": 5
}
